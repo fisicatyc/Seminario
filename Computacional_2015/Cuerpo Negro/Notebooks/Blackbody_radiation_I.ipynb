{
 "cells": [
  {
   "cell_type": "code",
   "execution_count": 169,
   "metadata": {
    "collapsed": true
   },
   "outputs": [],
   "source": [
    "# Import Modules\n",
    "import os\n",
    "import matplotlib.pyplot as plt\n",
    "import matplotlib.patches as mpatches\n",
    "import time\n",
    "import numpy as np\n",
    "import pandas as pd\n",
    "%matplotlib inline"
   ]
  },
  {
   "cell_type": "code",
   "execution_count": 44,
   "metadata": {
    "collapsed": true
   },
   "outputs": [],
   "source": [
    "# %load https://raw.githubusercontent.com/fisicatyc/numericos-interactivo/master/project_2014_numerical_methods/Numericos/lib/integrators/compositerules/comptraprule.py\n",
    "\"\"\"\n",
    "    Description: function comptraprule is part of the Composite Integration\n",
    "    Techniques and can be thought as an upgrated version of Trapezoidal rule\n",
    "    integration technique that aproximates a defined integal evaluated in [a,b]\n",
    "    with better presicion in larger intervals. It's truncation error is of order\n",
    "    h^2 and defined by a second order derivative. Similar to compmidtrule but\n",
    "    request more operations Presicion is similar to Composite midpoint rule.\n",
    "    Difference from the other methods is the need of only one integration interval\n",
    "    therefore the number of subintervals can be even or odd.\n",
    "    \n",
    "    Inputs: lowerlimit - float - defines first limit of integration.\n",
    "            upperlimit - float - defines last limit of integration.\n",
    "            redc - integer - integer that reduces space grid in domain.\n",
    "            function - function type object - evaluates f(x) at x.\n",
    "            \n",
    "    Outputs: integ - float - defined integral aproximation\n",
    "    \n",
    "    Example line: integ = comptraprule(-2, 2, 40, (lambda x: 3*x**4));\n",
    "                  \n",
    "    Dependencies: None.\n",
    "    \n",
    "    Version: 1.2 for Python 3.4\n",
    "    \n",
    "    Definitions were taken from:\n",
    "        Richard L. Burden, J. Douglas Faires. \"Numerical Analysis\" 9th ed.\n",
    "        \"Chapter 4 - Numerical Differentiation and Integration\". \n",
    "        Cengage Learning. 2010. pp: 153 - 156.\n",
    "        \n",
    "    Author: J.J. Cadavid - SFTC - EAFIT University.\n",
    "    Contact: jcadav22@eafit.edu.co\n",
    "    \n",
    "    Date: 28/12/2014.\n",
    "\"\"\"\n",
    "\n",
    "def comptraprule (lowerlimit, upperlimit, redc, function):\n",
    "\n",
    "#  Input error verification   \n",
    "    if redc % 2 != 0:\n",
    "        raise Exception('Reduced inverval - redc- must be an even integer');\n",
    "        \n",
    "    test = lambda: None;\n",
    "    if isinstance(function,type(test)) == 0:\n",
    "        raise Exception(\"function must be lambda object-type\");\n",
    "        \n",
    "# Zero initialing        \n",
    "    sumf = 0.0;\n",
    "        \n",
    "# Space grid size\n",
    "    h = (upperlimit - lowerlimit)/redc;\n",
    " \n",
    "# Main loop - Composite trapezoidal rule approximation .\n",
    "    for k in range(1, redc):\n",
    "        sumf = sumf + 2*function(lowerlimit + k*h);\n",
    "        \n",
    "    integ = 0.5*h*(sumf + function(upperlimit) + function(lowerlimit));\n",
    "    \n",
    "    return(integ);"
   ]
  },
  {
   "cell_type": "code",
   "execution_count": 181,
   "metadata": {
    "collapsed": false
   },
   "outputs": [
    {
     "data": {
      "text/html": [
       "<div>\n",
       "<table border=\"1\" class=\"dataframe\">\n",
       "  <thead>\n",
       "    <tr style=\"text-align: right;\">\n",
       "      <th></th>\n",
       "      <th>Total Energy</th>\n",
       "    </tr>\n",
       "  </thead>\n",
       "  <tbody>\n",
       "    <tr>\n",
       "      <th>500</th>\n",
       "      <td>0.358755</td>\n",
       "    </tr>\n",
       "    <tr>\n",
       "      <th>2500</th>\n",
       "      <td>445878.365127</td>\n",
       "    </tr>\n",
       "    <tr>\n",
       "      <th>4000</th>\n",
       "      <td>3949892.500594</td>\n",
       "    </tr>\n",
       "    <tr>\n",
       "      <th>5780</th>\n",
       "      <td>18902104.924807</td>\n",
       "    </tr>\n",
       "    <tr>\n",
       "      <th>7250</th>\n",
       "      <td>48105063.417381</td>\n",
       "    </tr>\n",
       "  </tbody>\n",
       "</table>\n",
       "</div>"
      ],
      "text/plain": [
       "         Total Energy\n",
       "500          0.358755\n",
       "2500    445878.365127\n",
       "4000   3949892.500594\n",
       "5780  18902104.924807\n",
       "7250  48105063.417381"
      ]
     },
     "execution_count": 181,
     "metadata": {},
     "output_type": "execute_result"
    }
   ],
   "source": [
    "# Planck parameters\n",
    "h = 6.62607004*10**-34;\n",
    "c = 3.0*10**8;\n",
    "Kb = 1.38064852*10**-23;\n",
    "TemperatureVect = [500,2500,4000,5780,7250];\n",
    "VectSize = len(TemperatureVect);\n",
    "\n",
    "# Data initialization\n",
    "dataSize = 50;\n",
    "IntegSamples = 100 # Defines the number of samples\n",
    "RadianceMat = [[0 for x in range(dataSize)] for x in range(VectSize)];\n",
    "EnergyData = [0]*VectSize;\n",
    "waveLengthMin = 100*10**-9;\n",
    "waveLengthMax = 2000*10**-9;\n",
    "waveLengthVect = np.linspace(waveLengthMin,waveLengthMax,dataSize);\n",
    "\n",
    "# Planck's Law function\n",
    "for n in range(0,VectSize):\n",
    "    B = lambda waveLength: (2*h*c**2)/waveLength**5*(1/(np.exp((h*c)/(waveLength*Kb*TemperatureVect[n]))-1));\n",
    "    RadianceMat[n][:] = B(waveLengthVect);\n",
    "    EnergyData[n]= comptraprule(waveLengthMin, waveLengthMax, IntegSamples, B);\n",
    "\n",
    "Frame = pd.DataFrame(EnergyData,index=TemperatureVect, columns=['Total Energy'])\n",
    "Frame;"
   ]
  },
  {
   "cell_type": "code",
   "execution_count": 183,
   "metadata": {
    "collapsed": false
   },
   "outputs": [
    {
     "data": {
      "image/png": "[encoded data removed]",
      "text/plain": [
       "<matplotlib.figure.Figure at 0x9780400>"
      ]
     },
     "metadata": {},
     "output_type": "display_data"
    }
   ],
   "source": [
    "# Plot parameters\n",
    "font = {'family' : 'serif','color'  : 'darkred', 'weight' : 'normal', 'size'   : 16} # font used in axes legend\n",
    "for n in range(0,VectSize):\n",
    "    plt.plot(waveLengthVect,RadianceMat[n][:], label = TemperatureVect[n],);\n",
    "    plt.fill_between(waveLengthVect,RadianceMat[n][:], alpha=0.05*n, facecolor='k')\n",
    "plt.axis('auto') # according to list data, axes are adjust in the plot\n",
    "plt.title('Distribution at each temperature', fontdict=font); \n",
    "plt.xlabel('Wavelength [nm]', fontdict=font);\n",
    "plt.ylabel('Spectral Radiance', fontdict=font);\n",
    "plt.grid();\n",
    "plt.legend();\n",
    "plt.show();"
   ]
  },
  {
   "cell_type": "code",
   "execution_count": null,
   "metadata": {
    "collapsed": true
   },
   "outputs": [],
   "source": []
  },
  {
   "cell_type": "code",
   "execution_count": null,
   "metadata": {
    "collapsed": true
   },
   "outputs": [],
   "source": []
  }
 ],
 "metadata": {
  "kernelspec": {
   "display_name": "Python 3",
   "language": "python",
   "name": "python3"
  },
  "language_info": {
   "codemirror_mode": {
    "name": "ipython",
    "version": 3
   },
   "file_extension": ".py",
   "mimetype": "text/x-python",
   "name": "python",
   "nbconvert_exporter": "python",
   "pygments_lexer": "ipython3",
   "version": "3.4.1"
  }
 },
 "nbformat": 4,
 "nbformat_minor": 0
}
